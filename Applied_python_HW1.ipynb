{
 "cells": [
  {
   "cell_type": "markdown",
   "metadata": {
    "id": "m9QWlN-lq0qw"
   },
   "source": [
    "# Практическая работа"
   ]
  },
  {
   "cell_type": "markdown",
   "metadata": {
    "id": "4Nb7eTxYWWUe"
   },
   "source": [
    "# Задача"
   ]
  },
  {
   "cell_type": "markdown",
   "metadata": {
    "id": "ug5TQChn6KiJ"
   },
   "source": [
    "Один из способов повысить эффективность взаимодействия банка с клиентами — отправлять предложение о новой услуге не всем клиентам, а только некоторым, которые выбираются по принципу наибольшей склонности к отклику на это предложение.\n",
    "\n",
    "Задача заключается в том, чтобы предложить алгоритм, который будет выдавать склонность клиента к положительному или отрицательному отклику на предложение банка. Предполагается, что, получив такие оценки для некоторого множества клиентов, банк обратится с предложением только к тем, от кого ожидается положительный отклик.\n"
   ]
  },
  {
   "cell_type": "markdown",
   "metadata": {
    "id": "5k52FwP156I6"
   },
   "source": [
    "Для решения этой задачи загрузите файлы из базы в Postgres.\n",
    "Эта БД хранит информацию о клиентах банка и их персональные данные, такие как пол, количество детей и другие.\n",
    "\n",
    "Описание таблиц с данными представлено ниже.\n"
   ]
  },
  {
   "cell_type": "markdown",
   "metadata": {
    "id": "3HYLpuwA6dAw"
   },
   "source": [
    "**D_work**\n",
    "\n",
    "Описание статусов относительно работы:\n",
    "- ID — идентификатор социального статуса клиента относительно работы;\n",
    "- COMMENT — расшифровка статуса.\n",
    "\n",
    "\n",
    "**D_pens**\n",
    "\n",
    "Описание статусов относительно пенсии:\n",
    "- ID — идентификатор социального статуса;\n",
    "- COMMENT — расшифровка статуса.\n",
    "\n",
    "\n",
    "**D_clients**\n",
    "\n",
    "Описание данных клиентов:\n",
    "- ID — идентификатор записи;\n",
    "- AGE\t— возраст клиента;\n",
    "- GENDER — пол клиента (1 — мужчина, 0 — женщина);\n",
    "- EDUCATION — образование;\n",
    "- MARITAL_STATUS — семейное положение;\n",
    "- CHILD_TOTAL\t— количество детей клиента;\n",
    "- DEPENDANTS — количество иждивенцев клиента;\n",
    "- SOCSTATUS_WORK_FL\t— социальный статус клиента относительно работы (1 — работает, 0 — не работает);\n",
    "- SOCSTATUS_PENS_FL\t— социальный статус клиента относительно пенсии (1 — пенсионер, 0 — не пенсионер);\n",
    "- REG_ADDRESS_PROVINCE — область регистрации клиента;\n",
    "- FACT_ADDRESS_PROVINCE — область фактического пребывания клиента;\n",
    "- POSTAL_ADDRESS_PROVINCE — почтовый адрес области;\n",
    "- FL_PRESENCE_FL — наличие в собственности квартиры (1 — есть, 0 — нет);\n",
    "- OWN_AUTO — количество автомобилей в собственности.\n",
    "\n",
    "\n",
    "**D_agreement**\n",
    "\n",
    "Таблица с зафиксированными откликами клиентов на предложения банка:\n",
    "- AGREEMENT_RK — уникальный идентификатор объекта в выборке;\n",
    "- ID_CLIENT — идентификатор клиента;\n",
    "- TARGET — целевая переменная: отклик на маркетинговую кампанию (1 — отклик был зарегистрирован, 0 — отклика не было).\n",
    "    \n",
    "    \n",
    "**D_job**\n",
    "\n",
    "Описание информации о работе клиентов:\n",
    "- GEN_INDUSTRY — отрасль работы клиента;\n",
    "- GEN_TITLE — должность;\n",
    "- JOB_DIR — направление деятельности внутри компании;\n",
    "- WORK_TIME — время работы на текущем месте (в месяцах);\n",
    "- ID_CLIENT — идентификатор клиента.\n",
    "\n",
    "\n",
    "**D_salary**\n",
    "\n",
    "Описание информации о заработной плате клиентов:\n",
    "- ID_CLIENT — идентификатор клиента;\n",
    "- FAMILY_INCOME — семейный доход (несколько категорий);\n",
    "- PERSONAL_INCOME — личный доход клиента (в рублях).\n",
    "\n",
    "\n",
    "**D_last_credit**\n",
    "\n",
    "Информация о последнем займе клиента:\n",
    "- ID_CLIENT — идентификатор клиента;\n",
    "- CREDIT — сумма последнего кредита клиента (в рублях);\n",
    "- TERM — срок кредита;\n",
    "- FST_PAYMENT — первоначальный взнос (в рублях).\n",
    "\n",
    "\n",
    "**D_loan**\n",
    "\n",
    "Информация о кредитной истории клиента:\n",
    "- ID_CLIENT — идентификатор клиента;\n",
    "- ID_LOAN — идентификатор кредита.\n",
    "\n",
    "**D_close_loan**\n",
    "\n",
    "Информация о статусах кредита (ссуд):\n",
    "- ID_LOAN — идентификатор кредита;\n",
    "- CLOSED_FL — текущий статус кредита (1 — закрыт, 0 — не закрыт)."
   ]
  },
  {
   "cell_type": "markdown",
   "metadata": {
    "id": "aSCbvJeMKegU"
   },
   "source": [
    "Ниже представлен минимальный список колонок, которые должны находиться в итоговом датасете после склейки и агрегации данных. По своему усмотрению вы можете добавить дополнительные к этим колонки."
   ]
  },
  {
   "cell_type": "markdown",
   "metadata": {
    "id": "xDZKZYCtmbwi"
   },
   "source": [
    "    - AGREEMENT_RK — уникальный идентификатор объекта в выборке;\n",
    "    - TARGET — целевая переменная: отклик на маркетинговую кампанию (1 — отклик был зарегистрирован, 0 — отклика не было);\n",
    "    - AGE — возраст клиента;\n",
    "    - SOCSTATUS_WORK_FL — социальный статус клиента относительно работы (1 — работает, 0 — не работает);\n",
    "    - SOCSTATUS_PENS_FL — социальный статус клиента относительно пенсии (1 — пенсионер, 0 — не пенсионер);\n",
    "    - GENDER — пол клиента (1 — мужчина, 0 — женщина);\n",
    "    - CHILD_TOTAL — количество детей клиента;\n",
    "    - DEPENDANTS — количество иждивенцев клиента;\n",
    "    - PERSONAL_INCOME — личный доход клиента (в рублях);\n",
    "    - LOAN_NUM_TOTAL — количество ссуд клиента;\n",
    "    - LOAN_NUM_CLOSED — количество погашенных ссуд клиента.\n"
   ]
  },
  {
   "cell_type": "markdown",
   "metadata": {
    "id": "EDpojLFeAw2Y"
   },
   "source": [
    "Будьте внимательны при сборке датасета: это реальные банковские данные, в которых могут наблюдаться дубли, некорректно заполненные значения или значения, противоречащие друг другу. Для получения качественной модели необходимо предварительно очистить датасет от такой информации."
   ]
  },
  {
   "cell_type": "markdown",
   "metadata": {
    "id": "GERgJvyYmQEZ"
   },
   "source": [
    "## Задание 1\n",
    "\n",
    "Соберите всю информацию о клиентах в одну таблицу, где одна строчка соответствует полной информации об одном клиенте."
   ]
  },
  {
   "cell_type": "code",
   "execution_count": 24,
   "metadata": {
    "id": "KAlBiLsoFArH"
   },
   "outputs": [],
   "source": [
    "import pandas as pd\n",
    "path = 'https://raw.githubusercontent.com/aiedu-courses/stepik_linear_models/main/datasets/'"
   ]
  },
  {
   "cell_type": "code",
   "execution_count": 25,
   "metadata": {
    "id": "TFKqvMOdF0wF"
   },
   "outputs": [],
   "source": [
    "d_clients = pd.read_csv(f'{path}/D_clients.csv')\n",
    "d_target = pd.read_csv(f'{path}/D_target.csv')\n",
    "d_last_credit = pd.read_csv(f'{path}/D_last_credit.csv')\n",
    "d_job = pd.read_csv(f'{path}/D_job.csv')\n",
    "d_salary = pd.read_csv(f'{path}/D_salary.csv')\n",
    "d_work = pd.read_csv(f'{path}/D_work.csv')\n",
    "d_loan = pd.read_csv(f'{path}/D_loan.csv')\n",
    "d_close_loan = pd.read_csv(f'{path}/D_close_loan.csv')\n",
    "d_pens = pd.read_csv(f'{path}/D_pens.csv')"
   ]
  },
  {
   "cell_type": "markdown",
   "metadata": {
    "id": "HVeKMq6GPTUu"
   },
   "source": [
    "Убеждаемся, что в таблицах d_clients, d_target, d_last_credit, d_job, d_salary нет дублей по ID клиента:"
   ]
  },
  {
   "cell_type": "code",
   "execution_count": 26,
   "metadata": {
    "colab": {
     "base_uri": "https://localhost:8080/"
    },
    "id": "iA6cP5lxPEan",
    "outputId": "1585afef-5fc6-4626-ef8a-0ce3cf5f627e"
   },
   "outputs": [
    {
     "name": "stdout",
     "output_type": "stream",
     "text": [
      "True\n",
      "True\n",
      "True\n",
      "True\n",
      "False\n"
     ]
    }
   ],
   "source": [
    "print(d_clients.shape[0] == len(d_clients['ID'].unique()))\n",
    "print(d_target.shape[0] == len(d_target['ID_CLIENT'].unique()))\n",
    "print(d_last_credit.shape[0] == len(d_last_credit['ID_CLIENT'].unique()))\n",
    "print(d_job.shape[0] == len(d_job['ID_CLIENT'].unique()))\n",
    "print(d_salary.shape[0] == len(d_salary['ID_CLIENT'].unique()))"
   ]
  },
  {
   "cell_type": "markdown",
   "metadata": {
    "id": "TASMALV-AD4c"
   },
   "source": [
    "Видим, что в таблице d_salary есть дубли по ID. Посмотрим на них:"
   ]
  },
  {
   "cell_type": "code",
   "execution_count": 27,
   "metadata": {
    "colab": {
     "base_uri": "https://localhost:8080/",
     "height": 363
    },
    "id": "9BcQIxw1A0hn",
    "outputId": "f3e5ac6a-f4e2-481c-b3c2-d089de627e77"
   },
   "outputs": [
    {
     "data": {
      "text/html": [
       "<div>\n",
       "<style scoped>\n",
       "    .dataframe tbody tr th:only-of-type {\n",
       "        vertical-align: middle;\n",
       "    }\n",
       "\n",
       "    .dataframe tbody tr th {\n",
       "        vertical-align: top;\n",
       "    }\n",
       "\n",
       "    .dataframe thead th {\n",
       "        text-align: right;\n",
       "    }\n",
       "</style>\n",
       "<table border=\"1\" class=\"dataframe\">\n",
       "  <thead>\n",
       "    <tr style=\"text-align: right;\">\n",
       "      <th></th>\n",
       "      <th>FAMILY_INCOME</th>\n",
       "      <th>PERSONAL_INCOME</th>\n",
       "      <th>ID_CLIENT</th>\n",
       "    </tr>\n",
       "  </thead>\n",
       "  <tbody>\n",
       "    <tr>\n",
       "      <th>5533</th>\n",
       "      <td>от 10000 до 20000 руб.</td>\n",
       "      <td>5000.0</td>\n",
       "      <td>106804370</td>\n",
       "    </tr>\n",
       "    <tr>\n",
       "      <th>9309</th>\n",
       "      <td>от 10000 до 20000 руб.</td>\n",
       "      <td>5000.0</td>\n",
       "      <td>106804370</td>\n",
       "    </tr>\n",
       "    <tr>\n",
       "      <th>1331</th>\n",
       "      <td>от 10000 до 20000 руб.</td>\n",
       "      <td>11000.0</td>\n",
       "      <td>106804441</td>\n",
       "    </tr>\n",
       "    <tr>\n",
       "      <th>6524</th>\n",
       "      <td>от 10000 до 20000 руб.</td>\n",
       "      <td>11000.0</td>\n",
       "      <td>106804441</td>\n",
       "    </tr>\n",
       "    <tr>\n",
       "      <th>7248</th>\n",
       "      <td>от 10000 до 20000 руб.</td>\n",
       "      <td>3000.0</td>\n",
       "      <td>106804476</td>\n",
       "    </tr>\n",
       "    <tr>\n",
       "      <th>11850</th>\n",
       "      <td>от 10000 до 20000 руб.</td>\n",
       "      <td>3000.0</td>\n",
       "      <td>106804476</td>\n",
       "    </tr>\n",
       "    <tr>\n",
       "      <th>2725</th>\n",
       "      <td>от 10000 до 20000 руб.</td>\n",
       "      <td>7800.0</td>\n",
       "      <td>106804526</td>\n",
       "    </tr>\n",
       "    <tr>\n",
       "      <th>12311</th>\n",
       "      <td>от 10000 до 20000 руб.</td>\n",
       "      <td>7800.0</td>\n",
       "      <td>106804526</td>\n",
       "    </tr>\n",
       "    <tr>\n",
       "      <th>10165</th>\n",
       "      <td>свыше 50000 руб.</td>\n",
       "      <td>18000.0</td>\n",
       "      <td>106804527</td>\n",
       "    </tr>\n",
       "    <tr>\n",
       "      <th>3124</th>\n",
       "      <td>свыше 50000 руб.</td>\n",
       "      <td>18000.0</td>\n",
       "      <td>106804527</td>\n",
       "    </tr>\n",
       "  </tbody>\n",
       "</table>\n",
       "</div>"
      ],
      "text/plain": [
       "                FAMILY_INCOME  PERSONAL_INCOME  ID_CLIENT\n",
       "5533   от 10000 до 20000 руб.           5000.0  106804370\n",
       "9309   от 10000 до 20000 руб.           5000.0  106804370\n",
       "1331   от 10000 до 20000 руб.          11000.0  106804441\n",
       "6524   от 10000 до 20000 руб.          11000.0  106804441\n",
       "7248   от 10000 до 20000 руб.           3000.0  106804476\n",
       "11850  от 10000 до 20000 руб.           3000.0  106804476\n",
       "2725   от 10000 до 20000 руб.           7800.0  106804526\n",
       "12311  от 10000 до 20000 руб.           7800.0  106804526\n",
       "10165        свыше 50000 руб.          18000.0  106804527\n",
       "3124         свыше 50000 руб.          18000.0  106804527"
      ]
     },
     "execution_count": 27,
     "metadata": {},
     "output_type": "execute_result"
    }
   ],
   "source": [
    "doubles_by_client = d_salary[d_salary.duplicated(subset=['ID_CLIENT'])]['ID_CLIENT'].values\n",
    "d_salary[d_salary['ID_CLIENT'].isin(doubles_by_client)].sort_values(by = 'ID_CLIENT').head(10)"
   ]
  },
  {
   "cell_type": "markdown",
   "metadata": {
    "id": "73g4CgM1CwD1"
   },
   "source": [
    "Удалим полные дубли:"
   ]
  },
  {
   "cell_type": "code",
   "execution_count": 28,
   "metadata": {
    "colab": {
     "base_uri": "https://localhost:8080/"
    },
    "id": "Zpqs7PUvCviR",
    "outputId": "62bbdd9f-fe6f-4fd0-8277-58ab5f99d8e9"
   },
   "outputs": [
    {
     "name": "stdout",
     "output_type": "stream",
     "text": [
      "15223 True\n"
     ]
    }
   ],
   "source": [
    "d_salary_without_doubles = d_salary[~d_salary.duplicated()]\n",
    "print(d_salary_without_doubles.shape[0], d_salary_without_doubles.shape[0] == len(d_salary_without_doubles['ID_CLIENT'].unique()))"
   ]
  },
  {
   "cell_type": "markdown",
   "metadata": {
    "id": "dRr3D-qRPuoJ"
   },
   "source": [
    "Аналогично проверяем ссуды:"
   ]
  },
  {
   "cell_type": "code",
   "execution_count": 29,
   "metadata": {
    "colab": {
     "base_uri": "https://localhost:8080/"
    },
    "id": "5sFBk7p1P1w9",
    "outputId": "b0d340a9-b1cd-4123-d5cf-9726fd0053ae"
   },
   "outputs": [
    {
     "name": "stdout",
     "output_type": "stream",
     "text": [
      "True\n"
     ]
    }
   ],
   "source": [
    "print(d_loan.shape[0] == len(d_loan['ID_LOAN'].unique()))"
   ]
  },
  {
   "cell_type": "code",
   "execution_count": 30,
   "metadata": {
    "colab": {
     "base_uri": "https://localhost:8080/"
    },
    "id": "hPMvF6HRQexS",
    "outputId": "57863e9d-a42e-4f0d-eaec-3d7d227e8ab8"
   },
   "outputs": [
    {
     "name": "stdout",
     "output_type": "stream",
     "text": [
      "True\n"
     ]
    }
   ],
   "source": [
    "print(d_close_loan.shape[0] == len(d_close_loan['ID_LOAN'].unique()))"
   ]
  },
  {
   "cell_type": "markdown",
   "metadata": {
    "id": "Pgw2d51bDqEd"
   },
   "source": [
    "Получаем количество ссуд (всех и закрытых) у клиента:"
   ]
  },
  {
   "cell_type": "code",
   "execution_count": 31,
   "metadata": {
    "colab": {
     "base_uri": "https://localhost:8080/",
     "height": 206
    },
    "id": "Ps8ZzqFHM4nG",
    "outputId": "54c292f0-2748-400c-8164-28cb4be40854"
   },
   "outputs": [
    {
     "data": {
      "text/html": [
       "<div>\n",
       "<style scoped>\n",
       "    .dataframe tbody tr th:only-of-type {\n",
       "        vertical-align: middle;\n",
       "    }\n",
       "\n",
       "    .dataframe tbody tr th {\n",
       "        vertical-align: top;\n",
       "    }\n",
       "\n",
       "    .dataframe thead th {\n",
       "        text-align: right;\n",
       "    }\n",
       "</style>\n",
       "<table border=\"1\" class=\"dataframe\">\n",
       "  <thead>\n",
       "    <tr style=\"text-align: right;\">\n",
       "      <th></th>\n",
       "      <th>ID_CLIENT</th>\n",
       "      <th>LOAN_NUM_TOTAL</th>\n",
       "      <th>LOAN_NUM_CLOSED</th>\n",
       "    </tr>\n",
       "  </thead>\n",
       "  <tbody>\n",
       "    <tr>\n",
       "      <th>0</th>\n",
       "      <td>106804370</td>\n",
       "      <td>1</td>\n",
       "      <td>1</td>\n",
       "    </tr>\n",
       "    <tr>\n",
       "      <th>1</th>\n",
       "      <td>106804371</td>\n",
       "      <td>1</td>\n",
       "      <td>1</td>\n",
       "    </tr>\n",
       "    <tr>\n",
       "      <th>2</th>\n",
       "      <td>106804372</td>\n",
       "      <td>2</td>\n",
       "      <td>1</td>\n",
       "    </tr>\n",
       "    <tr>\n",
       "      <th>3</th>\n",
       "      <td>106804373</td>\n",
       "      <td>1</td>\n",
       "      <td>1</td>\n",
       "    </tr>\n",
       "    <tr>\n",
       "      <th>4</th>\n",
       "      <td>106804374</td>\n",
       "      <td>2</td>\n",
       "      <td>1</td>\n",
       "    </tr>\n",
       "  </tbody>\n",
       "</table>\n",
       "</div>"
      ],
      "text/plain": [
       "   ID_CLIENT  LOAN_NUM_TOTAL  LOAN_NUM_CLOSED\n",
       "0  106804370               1                1\n",
       "1  106804371               1                1\n",
       "2  106804372               2                1\n",
       "3  106804373               1                1\n",
       "4  106804374               2                1"
      ]
     },
     "execution_count": 31,
     "metadata": {},
     "output_type": "execute_result"
    }
   ],
   "source": [
    "d_loan_by_client = d_loan.groupby(['ID_CLIENT'], as_index=False).agg(LOAN_NUM_TOTAL=('ID_LOAN', 'nunique'))\n",
    "d_close_loan_by_client = d_loan.merge(d_close_loan[d_close_loan['CLOSED_FL'] == 1], how = 'inner', on = 'ID_LOAN').groupby(['ID_CLIENT'], as_index=False).agg(LOAN_NUM_CLOSED=('ID_LOAN', 'nunique'))\n",
    "d_loan_by_client = d_loan_by_client.merge(d_close_loan_by_client, how = 'left', on = 'ID_CLIENT').fillna(0).astype(int)\n",
    "d_loan_by_client.head()"
   ]
  },
  {
   "cell_type": "code",
   "execution_count": 39,
   "metadata": {
    "colab": {
     "base_uri": "https://localhost:8080/",
     "height": 342
    },
    "id": "1v3pBuGvRrk4",
    "outputId": "e1ae9e73-d7be-4800-f16f-3c3d6902fd76"
   },
   "outputs": [
    {
     "data": {
      "text/html": [
       "<div>\n",
       "<style scoped>\n",
       "    .dataframe tbody tr th:only-of-type {\n",
       "        vertical-align: middle;\n",
       "    }\n",
       "\n",
       "    .dataframe tbody tr th {\n",
       "        vertical-align: top;\n",
       "    }\n",
       "\n",
       "    .dataframe thead th {\n",
       "        text-align: right;\n",
       "    }\n",
       "</style>\n",
       "<table border=\"1\" class=\"dataframe\">\n",
       "  <thead>\n",
       "    <tr style=\"text-align: right;\">\n",
       "      <th></th>\n",
       "      <th>AGREEMENT_RK</th>\n",
       "      <th>TARGET</th>\n",
       "      <th>AGE</th>\n",
       "      <th>SOCSTATUS_WORK_FL</th>\n",
       "      <th>SOCSTATUS_PENS_FL</th>\n",
       "      <th>GENDER</th>\n",
       "      <th>CHILD_TOTAL</th>\n",
       "      <th>DEPENDANTS</th>\n",
       "      <th>PERSONAL_INCOME</th>\n",
       "      <th>FAMILY_INCOME</th>\n",
       "      <th>LOAN_NUM_TOTAL</th>\n",
       "      <th>LOAN_NUM_CLOSED</th>\n",
       "      <th>CREDIT</th>\n",
       "      <th>TERM</th>\n",
       "      <th>FST_PAYMENT</th>\n",
       "      <th>MARITAL_STATUS</th>\n",
       "      <th>EDUCATION</th>\n",
       "    </tr>\n",
       "  </thead>\n",
       "  <tbody>\n",
       "    <tr>\n",
       "      <th>0</th>\n",
       "      <td>60099204.0</td>\n",
       "      <td>1.0</td>\n",
       "      <td>42</td>\n",
       "      <td>1</td>\n",
       "      <td>0</td>\n",
       "      <td>1</td>\n",
       "      <td>1</td>\n",
       "      <td>0</td>\n",
       "      <td>25000.0</td>\n",
       "      <td>от 20000 до 50000 руб.</td>\n",
       "      <td>1.0</td>\n",
       "      <td>0.0</td>\n",
       "      <td>5588.0</td>\n",
       "      <td>6.0</td>\n",
       "      <td>1000.0</td>\n",
       "      <td>Не состоял в браке</td>\n",
       "      <td>Среднее</td>\n",
       "    </tr>\n",
       "    <tr>\n",
       "      <th>1</th>\n",
       "      <td>62244665.0</td>\n",
       "      <td>0.0</td>\n",
       "      <td>28</td>\n",
       "      <td>1</td>\n",
       "      <td>0</td>\n",
       "      <td>1</td>\n",
       "      <td>1</td>\n",
       "      <td>1</td>\n",
       "      <td>10000.0</td>\n",
       "      <td>от 10000 до 20000 руб.</td>\n",
       "      <td>1.0</td>\n",
       "      <td>0.0</td>\n",
       "      <td>19498.0</td>\n",
       "      <td>12.0</td>\n",
       "      <td>0.0</td>\n",
       "      <td>Состою в браке</td>\n",
       "      <td>Среднее специальное</td>\n",
       "    </tr>\n",
       "    <tr>\n",
       "      <th>2</th>\n",
       "      <td>61050759.0</td>\n",
       "      <td>0.0</td>\n",
       "      <td>64</td>\n",
       "      <td>1</td>\n",
       "      <td>1</td>\n",
       "      <td>0</td>\n",
       "      <td>2</td>\n",
       "      <td>0</td>\n",
       "      <td>30000.0</td>\n",
       "      <td>от 20000 до 50000 руб.</td>\n",
       "      <td>1.0</td>\n",
       "      <td>1.0</td>\n",
       "      <td>15470.0</td>\n",
       "      <td>3.0</td>\n",
       "      <td>15000.0</td>\n",
       "      <td>Состою в браке</td>\n",
       "      <td>Среднее специальное</td>\n",
       "    </tr>\n",
       "    <tr>\n",
       "      <th>3</th>\n",
       "      <td>62079659.0</td>\n",
       "      <td>0.0</td>\n",
       "      <td>54</td>\n",
       "      <td>1</td>\n",
       "      <td>0</td>\n",
       "      <td>1</td>\n",
       "      <td>0</td>\n",
       "      <td>0</td>\n",
       "      <td>25000.0</td>\n",
       "      <td>от 20000 до 50000 руб.</td>\n",
       "      <td>1.0</td>\n",
       "      <td>0.0</td>\n",
       "      <td>13960.0</td>\n",
       "      <td>6.0</td>\n",
       "      <td>2500.0</td>\n",
       "      <td>Состою в браке</td>\n",
       "      <td>Среднее специальное</td>\n",
       "    </tr>\n",
       "    <tr>\n",
       "      <th>4</th>\n",
       "      <td>66583553.0</td>\n",
       "      <td>0.0</td>\n",
       "      <td>26</td>\n",
       "      <td>1</td>\n",
       "      <td>0</td>\n",
       "      <td>0</td>\n",
       "      <td>1</td>\n",
       "      <td>1</td>\n",
       "      <td>15000.0</td>\n",
       "      <td>от 10000 до 20000 руб.</td>\n",
       "      <td>2.0</td>\n",
       "      <td>2.0</td>\n",
       "      <td>11890.0</td>\n",
       "      <td>6.0</td>\n",
       "      <td>8000.0</td>\n",
       "      <td>Состою в браке</td>\n",
       "      <td>Среднее специальное</td>\n",
       "    </tr>\n",
       "  </tbody>\n",
       "</table>\n",
       "</div>"
      ],
      "text/plain": [
       "   AGREEMENT_RK  TARGET  AGE  SOCSTATUS_WORK_FL  SOCSTATUS_PENS_FL  GENDER  \\\n",
       "0    60099204.0     1.0   42                  1                  0       1   \n",
       "1    62244665.0     0.0   28                  1                  0       1   \n",
       "2    61050759.0     0.0   64                  1                  1       0   \n",
       "3    62079659.0     0.0   54                  1                  0       1   \n",
       "4    66583553.0     0.0   26                  1                  0       0   \n",
       "\n",
       "   CHILD_TOTAL  DEPENDANTS  PERSONAL_INCOME           FAMILY_INCOME  \\\n",
       "0            1           0          25000.0  от 20000 до 50000 руб.   \n",
       "1            1           1          10000.0  от 10000 до 20000 руб.   \n",
       "2            2           0          30000.0  от 20000 до 50000 руб.   \n",
       "3            0           0          25000.0  от 20000 до 50000 руб.   \n",
       "4            1           1          15000.0  от 10000 до 20000 руб.   \n",
       "\n",
       "   LOAN_NUM_TOTAL  LOAN_NUM_CLOSED   CREDIT  TERM  FST_PAYMENT  \\\n",
       "0             1.0              0.0   5588.0   6.0       1000.0   \n",
       "1             1.0              0.0  19498.0  12.0          0.0   \n",
       "2             1.0              1.0  15470.0   3.0      15000.0   \n",
       "3             1.0              0.0  13960.0   6.0       2500.0   \n",
       "4             2.0              2.0  11890.0   6.0       8000.0   \n",
       "\n",
       "       MARITAL_STATUS            EDUCATION  \n",
       "0  Не состоял в браке              Среднее  \n",
       "1      Состою в браке  Среднее специальное  \n",
       "2      Состою в браке  Среднее специальное  \n",
       "3      Состою в браке  Среднее специальное  \n",
       "4      Состою в браке  Среднее специальное  "
      ]
     },
     "execution_count": 39,
     "metadata": {},
     "output_type": "execute_result"
    }
   ],
   "source": [
    "data = d_clients.merge(d_loan_by_client, how = 'left', left_on = 'ID', right_on = 'ID_CLIENT')\n",
    "data = data.merge(d_target, how = 'left', on = 'ID_CLIENT')\n",
    "data = data.merge(d_salary_without_doubles, how = 'left', on = 'ID_CLIENT')\n",
    "data = data.merge(d_last_credit, how = 'left', on = 'ID_CLIENT')\n",
    "data = data[['AGREEMENT_RK', 'TARGET', 'AGE', 'SOCSTATUS_WORK_FL', 'SOCSTATUS_PENS_FL',\n",
    "             'GENDER', 'CHILD_TOTAL', 'DEPENDANTS', 'PERSONAL_INCOME', 'FAMILY_INCOME', 'LOAN_NUM_TOTAL',\n",
    "             'LOAN_NUM_CLOSED', 'CREDIT', 'TERM', 'FST_PAYMENT', 'MARITAL_STATUS', 'EDUCATION']]\n",
    "data.head()"
   ]
  },
  {
   "cell_type": "markdown",
   "metadata": {
    "id": "I7jn6IYXx6M9"
   },
   "source": [
    "## Задание 2\n",
    "\n",
    "При помощи инструмента Streamlit проведите разведочный анализ данных. В него может входить:\n",
    "\n",
    "* построение графиков распределений признаков\n",
    "* построение матрицы корреляций\n",
    "* построение графиков зависимостей целевой переменной и признаков\n",
    "* вычисление числовых характеристик распределения числовых столбцов (среднее, min, max, медиана и так далее)\n",
    "* любые другие ваши идеи приветствуются!\n"
   ]
  },
  {
   "cell_type": "code",
   "execution_count": 2,
   "metadata": {
    "colab": {
     "base_uri": "https://localhost:8080/"
    },
    "id": "RpahFNiQHucI",
    "outputId": "fea07edd-e310-42e2-b336-e6bfc2656b1e"
   },
   "outputs": [],
   "source": [
    "import pandas as pd\n",
    "import streamlit as st\n",
    "import seaborn as sns\n",
    "import matplotlib.pyplot as plt\n",
    "path = 'https://raw.githubusercontent.com/aiedu-courses/stepik_linear_models/main/datasets/'\n",
    "\n",
    "d_clients = pd.read_csv(f'{path}/D_clients.csv')\n",
    "d_target = pd.read_csv(f'{path}/D_target.csv')\n",
    "d_last_credit = pd.read_csv(f'{path}/D_last_credit.csv')\n",
    "d_job = pd.read_csv(f'{path}/D_job.csv')\n",
    "d_salary = pd.read_csv(f'{path}/D_salary.csv')\n",
    "d_work = pd.read_csv(f'{path}/D_work.csv')\n",
    "d_loan = pd.read_csv(f'{path}/D_loan.csv')\n",
    "d_close_loan = pd.read_csv(f'{path}/D_close_loan.csv')\n",
    "d_pens = pd.read_csv(f'{path}/D_pens.csv')\n",
    "\n",
    "d_salary_without_doubles = d_salary[~d_salary.duplicated()]\n",
    "d_loan_by_client = d_loan.groupby(['ID_CLIENT'], as_index=False).agg(LOAN_NUM_TOTAL=('ID_LOAN', 'nunique'))\n",
    "d_close_loan_by_client = d_loan.merge(d_close_loan[d_close_loan['CLOSED_FL'] == 1],\n",
    "how = 'inner', on = 'ID_LOAN').groupby(['ID_CLIENT'], as_index=False).agg(LOAN_NUM_CLOSED=('ID_LOAN', 'nunique'))\n",
    "d_loan_by_client = d_loan_by_client.merge(d_close_loan_by_client, how = 'left', on = 'ID_CLIENT').fillna(0).astype(int)\n",
    "\n",
    "data = d_clients.merge(d_loan_by_client, how = 'left', left_on = 'ID', right_on = 'ID_CLIENT')\n",
    "data = data.merge(d_target, how = 'left', on = 'ID_CLIENT')\n",
    "data = data.merge(d_salary_without_doubles, how = 'left', on = 'ID_CLIENT')\n",
    "data = data.merge(d_last_credit, how = 'left', on = 'ID_CLIENT')\n",
    "data = data[['AGREEMENT_RK', 'TARGET', 'AGE', 'SOCSTATUS_WORK_FL', 'SOCSTATUS_PENS_FL',\n",
    "             'GENDER', 'CHILD_TOTAL', 'DEPENDANTS', 'PERSONAL_INCOME',  'FAMILY_INCOME', 'LOAN_NUM_TOTAL',\n",
    "             'LOAN_NUM_CLOSED', 'CREDIT', 'TERM', 'FST_PAYMENT']]\n",
    "\n",
    "st.title(\"EDA\")\n",
    "st.subheader(\"Описательные статистики\")\n",
    "st.write(data.describe())\n",
    "st.write(\"Категориальные переменные\")\n",
    "st.write(data.describe(include = 'object'))\n",
    "st.subheader(\"Пример данных\")\n",
    "st.write(data.head(10))\n",
    "st.subheader(\"Распределение целевой переменной\")\n",
    "fig, ax = plt.subplots()\n",
    "sns.barplot(x = data['TARGET'].value_counts().index, y = data['TARGET'].value_counts().values, ax=ax)\n",
    "ax.set_title('TARGET')\n",
    "st.pyplot(fig)\n",
    "numeric_columns  = ['AGE', 'CHILD_TOTAL', 'DEPENDANTS',\n",
    "       'LOAN_NUM_TOTAL', 'LOAN_NUM_CLOSED',\n",
    "       'PERSONAL_INCOME', 'CREDIT', 'TERM', 'FST_PAYMENT']\n",
    "titles  = ['Возраст', 'Количество детей', 'Количество иждивенцев',\n",
    "       'Количество ссуд клиента', 'Количество погашенных ссуд клиента',\n",
    "       'Личный доход', 'Сумма последнего кредита клиента', 'Срок кредита', 'Первоначальный взнос']\n",
    "titles_dict = dict(zip(numeric_columns, titles))\n",
    "st.subheader(\"Распределение независимых переменных\")\n",
    "for column in numeric_columns:\n",
    "    fig, ax = plt.subplots()\n",
    "    sns.histplot(data[column], ax=ax)\n",
    "    ax.set_title(titles_dict[column])\n",
    "    st.pyplot(fig)\n",
    "\n",
    "fig, ax = plt.subplots()\n",
    "sns.barplot(x = data['SOCSTATUS_WORK_FL'].value_counts().index, y = data['SOCSTATUS_WORK_FL'].value_counts().values, ax=ax)\n",
    "ax.set_title('Наличие работы')\n",
    "plt.xticks(rotation=50)\n",
    "st.pyplot(fig)\n",
    "fig, ax = plt.subplots()\n",
    "sns.barplot(x = data['FAMILY_INCOME'].value_counts().index,\n",
    "y = data['FAMILY_INCOME'].value_counts().values, ax=ax, order = ['до 5000 руб.', 'от 5000 до 10000 руб.',  'от 10000 до 20000 руб.',\n",
    "'от 20000 до 50000 руб.', 'свыше 50000 руб.'])\n",
    "plt.xticks(rotation=50)\n",
    "st.pyplot(fig)\n",
    "\n",
    "st.subheader(\"Диаграммы рассеяния\")\n",
    "column_pairs = [('CHILD_TOTAL', 'PERSONAL_INCOME'), ('CREDIT', 'PERSONAL_INCOME')\n",
    "               , ('AGE', 'PERSONAL_INCOME'), ('PERSONAL_INCOME', 'LOAN_NUM_TOTAL')\n",
    "               , ('PERSONAL_INCOME', 'LOAN_NUM_CLOSED')]\n",
    "titles_scatter = ['Количество детей и доход', 'Сумма последнего кредита и личный доход',\n",
    "                  'Возраст и личный доход', 'Личный доход и число ссуд клиента',\n",
    "                   'Личный доход и число погашенных ссуд клиента']\n",
    "titles_scatter_dict = dict(zip(column_pairs, titles_scatter))\n",
    "for x_column, y_column in column_pairs:\n",
    "    fig, ax = plt.subplots()\n",
    "    sns.scatterplot(x=data[x_column], y=data[y_column], ax=ax)\n",
    "    ax.set_title(titles_scatter_dict[(x_column, y_column)])\n",
    "    st.pyplot(fig)\n",
    "st.subheader(\"Матрица корреляций\")\n",
    "corr_matrix = data[numeric_columns].corr(numeric_only = True)\n",
    "fig, ax = plt.subplots()\n",
    "sns.heatmap(corr_matrix, annot=True, cmap=\"coolwarm\", linewidths=.5, fmt=\".2f\", ax=ax)\n",
    "st.pyplot(fig)"
   ]
  }
 ],
 "metadata": {
  "colab": {
   "provenance": []
  },
  "kernelspec": {
   "display_name": "Python 3 (ipykernel)",
   "language": "python",
   "name": "python3"
  },
  "language_info": {
   "codemirror_mode": {
    "name": "ipython",
    "version": 3
   },
   "file_extension": ".py",
   "mimetype": "text/x-python",
   "name": "python",
   "nbconvert_exporter": "python",
   "pygments_lexer": "ipython3",
   "version": "3.10.9"
  }
 },
 "nbformat": 4,
 "nbformat_minor": 1
}
